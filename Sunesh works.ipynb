{
 "cells": [
  {
   "cell_type": "code",
   "execution_count": 1,
   "id": "3be6bd9a",
   "metadata": {},
   "outputs": [],
   "source": [
    "import os\n",
    "import django\n",
    "os.environ.setdefault('DJANGO_SETTINGS_MODULE', 'rest.settings')\n",
    "os.environ[\"DJANGO_ALLOW_ASYNC_UNSAFE\"] = \"true\"\n",
    "django.setup()"
   ]
  },
  {
   "cell_type": "code",
   "execution_count": 3,
   "id": "0d75ceb7",
   "metadata": {},
   "outputs": [
    {
     "ename": "NameError",
     "evalue": "name 'UserProfile' is not defined",
     "output_type": "error",
     "traceback": [
      "\u001b[0;31m---------------------------------------------------------------------------\u001b[0m",
      "\u001b[0;31mNameError\u001b[0m                                 Traceback (most recent call last)",
      "Input \u001b[0;32mIn [3]\u001b[0m, in \u001b[0;36m<cell line: 1>\u001b[0;34m()\u001b[0m\n\u001b[0;32m----> 1\u001b[0m \u001b[43mUserProfile\u001b[49m\u001b[38;5;241m.\u001b[39mobjects\u001b[38;5;241m.\u001b[39mall()\n",
      "\u001b[0;31mNameError\u001b[0m: name 'UserProfile' is not defined"
     ]
    }
   ],
   "source": [
    "UserProfile.objects.all()"
   ]
  },
  {
   "cell_type": "code",
   "execution_count": 14,
   "id": "0edecb70",
   "metadata": {},
   "outputs": [
    {
     "data": {
      "text/plain": [
       "[{'id': 5,\n",
       "  'password': 'pbkdf2_sha256$320000$1nT3DkLuC7PsKsEBYSuBMX$5ISxv0Gfb8AD/WhNvsvdCWcSHPBonOfsK70APn4i/JQ=',\n",
       "  'last_login': datetime.datetime(2022, 3, 13, 19, 18, 51, 29574, tzinfo=datetime.timezone.utc),\n",
       "  'is_superuser': True,\n",
       "  'username': 'admin',\n",
       "  'first_name': '',\n",
       "  'last_name': '',\n",
       "  'email': 'admin@1234.com',\n",
       "  'is_staff': True,\n",
       "  'is_active': True,\n",
       "  'date_joined': datetime.datetime(2022, 3, 13, 17, 45, 37, 116871, tzinfo=datetime.timezone.utc)},\n",
       " {'id': 8,\n",
       "  'password': 'pbkdf2_sha256$320000$02TfW4hYXFKWzVP37Srux7$gQ5+3DClXfQfK1WDZ2e3gjGeZIh6ccXP9mQE3b+yg94=',\n",
       "  'last_login': datetime.datetime(2022, 3, 13, 18, 8, 35, 796134, tzinfo=datetime.timezone.utc),\n",
       "  'is_superuser': False,\n",
       "  'username': 'emp1',\n",
       "  'first_name': 'employee',\n",
       "  'last_name': '01',\n",
       "  'email': '',\n",
       "  'is_staff': True,\n",
       "  'is_active': True,\n",
       "  'date_joined': datetime.datetime(2022, 3, 13, 18, 7, 18, tzinfo=datetime.timezone.utc)}]"
      ]
     },
     "execution_count": 14,
     "metadata": {},
     "output_type": "execute_result"
    }
   ],
   "source": [
    "list(User.objects.all().values())"
   ]
  },
  {
   "cell_type": "code",
   "execution_count": 8,
   "id": "69912a9c",
   "metadata": {},
   "outputs": [
    {
     "data": {
      "text/plain": [
       "<QuerySet [{'id': 3, 'name': 'Employee'}]>"
      ]
     },
     "execution_count": 8,
     "metadata": {},
     "output_type": "execute_result"
    }
   ],
   "source": [
    "Group.objects.filter(id=3).values()"
   ]
  },
  {
   "cell_type": "code",
   "execution_count": 9,
   "id": "eedfd897",
   "metadata": {},
   "outputs": [
    {
     "data": {
      "text/plain": [
       "<QuerySet [(1, 'Can add log entry', 1, 'add_logentry'), (2, 'Can change log entry', 1, 'change_logentry'), (3, 'Can delete log entry', 1, 'delete_logentry'), (4, 'Can view log entry', 1, 'view_logentry'), (9, 'Can add group', 3, 'add_group'), (10, 'Can change group', 3, 'change_group'), (11, 'Can delete group', 3, 'delete_group'), (12, 'Can view group', 3, 'view_group'), (5, 'Can add permission', 2, 'add_permission'), (6, 'Can change permission', 2, 'change_permission'), (7, 'Can delete permission', 2, 'delete_permission'), (8, 'Can view permission', 2, 'view_permission'), (13, 'Can add user', 4, 'add_user'), (14, 'Can change user', 4, 'change_user'), (15, 'Can delete user', 4, 'delete_user'), (16, 'Can view user', 4, 'view_user'), (17, 'Can add content type', 5, 'add_contenttype'), (18, 'Can change content type', 5, 'change_contenttype'), (19, 'Can delete content type', 5, 'delete_contenttype'), (20, 'Can view content type', 5, 'view_contenttype'), '...(remaining elements truncated)...']>"
      ]
     },
     "execution_count": 9,
     "metadata": {},
     "output_type": "execute_result"
    }
   ],
   "source": [
    "Permission.objects.values_list()"
   ]
  },
  {
   "cell_type": "code",
   "execution_count": 17,
   "id": "29dd3ee3",
   "metadata": {},
   "outputs": [
    {
     "ename": "NameError",
     "evalue": "name 'UserGroup' is not defined",
     "output_type": "error",
     "traceback": [
      "\u001b[0;31m---------------------------------------------------------------------------\u001b[0m",
      "\u001b[0;31mNameError\u001b[0m                                 Traceback (most recent call last)",
      "Input \u001b[0;32mIn [17]\u001b[0m, in \u001b[0;36m<cell line: 1>\u001b[0;34m()\u001b[0m\n\u001b[0;32m----> 1\u001b[0m \u001b[43mUserGroup\u001b[49m\u001b[38;5;241m.\u001b[39mget_or_create(user\u001b[38;5;241m=\u001b[39mUser\u001b[38;5;241m.\u001b[39mobjects\u001b[38;5;241m.\u001b[39mfilter()[\u001b[38;5;241m0\u001b[39m])\n",
      "\u001b[0;31mNameError\u001b[0m: name 'UserGroup' is not defined"
     ]
    }
   ],
   "source": [
    "UserGroup.get_or_create(user=User.objects.filter()[0])"
   ]
  },
  {
   "cell_type": "code",
   "execution_count": null,
   "id": "dacc375f",
   "metadata": {},
   "outputs": [],
   "source": []
  },
  {
   "cell_type": "code",
   "execution_count": null,
   "id": "db9aba93",
   "metadata": {},
   "outputs": [],
   "source": []
  }
 ],
 "metadata": {
  "kernelspec": {
   "display_name": "Django Shell-Plus",
   "language": "python",
   "name": "django_extensions"
  },
  "language_info": {
   "codemirror_mode": {
    "name": "ipython",
    "version": 3
   },
   "file_extension": ".py",
   "mimetype": "text/x-python",
   "name": "python",
   "nbconvert_exporter": "python",
   "pygments_lexer": "ipython3",
   "version": "3.9.7"
  }
 },
 "nbformat": 4,
 "nbformat_minor": 5
}
