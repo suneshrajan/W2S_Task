{
 "cells": [
  {
   "cell_type": "code",
   "execution_count": 31,
   "id": "3be6bd9a",
   "metadata": {},
   "outputs": [],
   "source": [
    "import os\n",
    "import django\n",
    "os.environ.setdefault('DJANGO_SETTINGS_MODULE', 'rest.settings')\n",
    "os.environ[\"DJANGO_ALLOW_ASYNC_UNSAFE\"] = \"true\"\n",
    "django.setup()\n",
    "import pandas as pd"
   ]
  },
  {
   "cell_type": "code",
   "execution_count": 30,
   "id": "0d75ceb7",
   "metadata": {},
   "outputs": [
    {
     "ename": "NameError",
     "evalue": "name 'UserProfile' is not defined",
     "output_type": "error",
     "traceback": [
      "\u001b[0;31m---------------------------------------------------------------------------\u001b[0m",
      "\u001b[0;31mNameError\u001b[0m                                 Traceback (most recent call last)",
      "Input \u001b[0;32mIn [30]\u001b[0m, in \u001b[0;36m<cell line: 1>\u001b[0;34m()\u001b[0m\n\u001b[0;32m----> 1\u001b[0m \u001b[43mUserProfile\u001b[49m\u001b[38;5;241m.\u001b[39mobjects\u001b[38;5;241m.\u001b[39mall()\n",
      "\u001b[0;31mNameError\u001b[0m: name 'UserProfile' is not defined"
     ]
    }
   ],
   "source": [
    "UserProfile.objects.all()"
   ]
  },
  {
   "cell_type": "code",
   "execution_count": 14,
   "id": "0edecb70",
   "metadata": {},
   "outputs": [
    {
     "data": {
      "text/plain": [
       "[{'id': 5,\n",
       "  'password': 'pbkdf2_sha256$320000$1nT3DkLuC7PsKsEBYSuBMX$5ISxv0Gfb8AD/WhNvsvdCWcSHPBonOfsK70APn4i/JQ=',\n",
       "  'last_login': datetime.datetime(2022, 3, 13, 19, 18, 51, 29574, tzinfo=datetime.timezone.utc),\n",
       "  'is_superuser': True,\n",
       "  'username': 'admin',\n",
       "  'first_name': '',\n",
       "  'last_name': '',\n",
       "  'email': 'admin@1234.com',\n",
       "  'is_staff': True,\n",
       "  'is_active': True,\n",
       "  'date_joined': datetime.datetime(2022, 3, 13, 17, 45, 37, 116871, tzinfo=datetime.timezone.utc)},\n",
       " {'id': 8,\n",
       "  'password': 'pbkdf2_sha256$320000$02TfW4hYXFKWzVP37Srux7$gQ5+3DClXfQfK1WDZ2e3gjGeZIh6ccXP9mQE3b+yg94=',\n",
       "  'last_login': datetime.datetime(2022, 3, 13, 18, 8, 35, 796134, tzinfo=datetime.timezone.utc),\n",
       "  'is_superuser': False,\n",
       "  'username': 'emp1',\n",
       "  'first_name': 'employee',\n",
       "  'last_name': '01',\n",
       "  'email': '',\n",
       "  'is_staff': True,\n",
       "  'is_active': True,\n",
       "  'date_joined': datetime.datetime(2022, 3, 13, 18, 7, 18, tzinfo=datetime.timezone.utc)}]"
      ]
     },
     "execution_count": 14,
     "metadata": {},
     "output_type": "execute_result"
    }
   ],
   "source": [
    "list(User.objects.all().values())"
   ]
  },
  {
   "cell_type": "code",
   "execution_count": 8,
   "id": "69912a9c",
   "metadata": {},
   "outputs": [
    {
     "data": {
      "text/plain": [
       "<QuerySet [{'id': 3, 'name': 'Employee'}]>"
      ]
     },
     "execution_count": 8,
     "metadata": {},
     "output_type": "execute_result"
    }
   ],
   "source": [
    "Group.objects.filter(id=3).values()"
   ]
  },
  {
   "cell_type": "code",
   "execution_count": 9,
   "id": "eedfd897",
   "metadata": {},
   "outputs": [
    {
     "data": {
      "text/plain": [
       "<QuerySet [(1, 'Can add log entry', 1, 'add_logentry'), (2, 'Can change log entry', 1, 'change_logentry'), (3, 'Can delete log entry', 1, 'delete_logentry'), (4, 'Can view log entry', 1, 'view_logentry'), (9, 'Can add group', 3, 'add_group'), (10, 'Can change group', 3, 'change_group'), (11, 'Can delete group', 3, 'delete_group'), (12, 'Can view group', 3, 'view_group'), (5, 'Can add permission', 2, 'add_permission'), (6, 'Can change permission', 2, 'change_permission'), (7, 'Can delete permission', 2, 'delete_permission'), (8, 'Can view permission', 2, 'view_permission'), (13, 'Can add user', 4, 'add_user'), (14, 'Can change user', 4, 'change_user'), (15, 'Can delete user', 4, 'delete_user'), (16, 'Can view user', 4, 'view_user'), (17, 'Can add content type', 5, 'add_contenttype'), (18, 'Can change content type', 5, 'change_contenttype'), (19, 'Can delete content type', 5, 'delete_contenttype'), (20, 'Can view content type', 5, 'view_contenttype'), '...(remaining elements truncated)...']>"
      ]
     },
     "execution_count": 9,
     "metadata": {},
     "output_type": "execute_result"
    }
   ],
   "source": [
    "Permission.objects.values_list()"
   ]
  },
  {
   "cell_type": "code",
   "execution_count": 17,
   "id": "29dd3ee3",
   "metadata": {},
   "outputs": [
    {
     "ename": "NameError",
     "evalue": "name 'UserGroup' is not defined",
     "output_type": "error",
     "traceback": [
      "\u001b[0;31m---------------------------------------------------------------------------\u001b[0m",
      "\u001b[0;31mNameError\u001b[0m                                 Traceback (most recent call last)",
      "Input \u001b[0;32mIn [17]\u001b[0m, in \u001b[0;36m<cell line: 1>\u001b[0;34m()\u001b[0m\n\u001b[0;32m----> 1\u001b[0m \u001b[43mUserGroup\u001b[49m\u001b[38;5;241m.\u001b[39mget_or_create(user\u001b[38;5;241m=\u001b[39mUser\u001b[38;5;241m.\u001b[39mobjects\u001b[38;5;241m.\u001b[39mfilter()[\u001b[38;5;241m0\u001b[39m])\n",
      "\u001b[0;31mNameError\u001b[0m: name 'UserGroup' is not defined"
     ]
    }
   ],
   "source": [
    "UserGroup.get_or_create(user=User.objects.filter()[0])"
   ]
  },
  {
   "cell_type": "code",
   "execution_count": 13,
   "id": "dacc375f",
   "metadata": {},
   "outputs": [
    {
     "data": {
      "text/plain": [
       "<QuerySet []>"
      ]
     },
     "execution_count": 13,
     "metadata": {},
     "output_type": "execute_result"
    }
   ],
   "source": [
    "group_obj = Group.objects.get(name=\"Employee\")\n",
    "User.objects.filter(groups=employee)"
   ]
  },
  {
   "cell_type": "code",
   "execution_count": 22,
   "id": "db9aba93",
   "metadata": {},
   "outputs": [],
   "source": [
    "skill_list = list(SkillCv.objects.all().order_by('id').values_list('name', flat=True))"
   ]
  },
  {
   "cell_type": "code",
   "execution_count": 23,
   "id": "e53f99f1",
   "metadata": {},
   "outputs": [
    {
     "data": {
      "text/plain": [
       "['Angular', 'ionic', 'Django']"
      ]
     },
     "execution_count": 23,
     "metadata": {},
     "output_type": "execute_result"
    }
   ],
   "source": [
    "skill_list"
   ]
  },
  {
   "cell_type": "code",
   "execution_count": null,
   "id": "9361d54d",
   "metadata": {},
   "outputs": [],
   "source": []
  },
  {
   "cell_type": "code",
   "execution_count": 24,
   "id": "f65468c9",
   "metadata": {},
   "outputs": [
    {
     "data": {
      "text/plain": [
       "<QuerySet [<UserSkills: 10 - employee - Angular - 70>]>"
      ]
     },
     "execution_count": 24,
     "metadata": {},
     "output_type": "execute_result"
    }
   ],
   "source": [
    "UserSkills.objects.filter(user_id=8)"
   ]
  },
  {
   "cell_type": "code",
   "execution_count": 25,
   "id": "2b8ec4d8",
   "metadata": {},
   "outputs": [],
   "source": [
    "user_skils = UserSkills.objects.filter(user=8)"
   ]
  },
  {
   "cell_type": "code",
   "execution_count": 35,
   "id": "998d3093",
   "metadata": {},
   "outputs": [],
   "source": [
    "user_skill_df = pd.DataFrame(list(user_skils.values_list('user_id', 'skill__name', 'percentage')), columns=['user_id', 'skill', 'percentage'])"
   ]
  },
  {
   "cell_type": "code",
   "execution_count": 37,
   "id": "c62c28ce",
   "metadata": {},
   "outputs": [
    {
     "name": "stderr",
     "output_type": "stream",
     "text": [
      "/tmp/ipykernel_10879/3011229907.py:1: FutureWarning: Using short name for 'orient' is deprecated. Only the options: ('dict', list, 'series', 'split', 'records', 'index') will be used in a future version. Use one of the above to silence this warning.\n",
      "  user_skill_df.groupby('user_id').apply(lambda x:x.to_dict('r')).to_dict()\n"
     ]
    },
    {
     "data": {
      "text/plain": [
       "{8: [{'user_id': 8, 'skill': 'Angular', 'percentage': 70}]}"
      ]
     },
     "execution_count": 37,
     "metadata": {},
     "output_type": "execute_result"
    }
   ],
   "source": [
    "user_skill_df.groupby('user_id').apply(lambda x:x.to_dict('r')).to_dict()"
   ]
  },
  {
   "cell_type": "code",
   "execution_count": 49,
   "id": "bf11750f",
   "metadata": {},
   "outputs": [
    {
     "name": "stderr",
     "output_type": "stream",
     "text": [
      "/tmp/ipykernel_10879/19438240.py:2: FutureWarning: Using short name for 'orient' is deprecated. Only the options: ('dict', list, 'series', 'split', 'records', 'index') will be used in a future version. Use one of the above to silence this warning.\n",
      "  user_skill_df.groupby('user_id').apply(lambda x:x.to_dict('r')).to_dict()\n"
     ]
    },
    {
     "data": {
      "text/plain": [
       "{8: [{'user_id': 8,\n",
       "   'firat_name': 'employee',\n",
       "   'last_name': '01',\n",
       "   'email': '',\n",
       "   'lost_loggedin': Timestamp('2022-03-13 18:08:35.796134+0000', tz='UTC'),\n",
       "   'skill': 'Angular',\n",
       "   'percentage': 70},\n",
       "  {'user_id': 8,\n",
       "   'firat_name': 'employee',\n",
       "   'last_name': '01',\n",
       "   'email': '',\n",
       "   'lost_loggedin': Timestamp('2022-03-13 18:08:35.796134+0000', tz='UTC'),\n",
       "   'skill': 'ionic',\n",
       "   'percentage': 80},\n",
       "  {'user_id': 8,\n",
       "   'firat_name': 'employee',\n",
       "   'last_name': '01',\n",
       "   'email': '',\n",
       "   'lost_loggedin': Timestamp('2022-03-13 18:08:35.796134+0000', tz='UTC'),\n",
       "   'skill': 'Django',\n",
       "   'percentage': 100}]}"
      ]
     },
     "execution_count": 49,
     "metadata": {},
     "output_type": "execute_result"
    }
   ],
   "source": [
    "user_skill_df = pd.DataFrame(list(UserSkills.objects.filter(user__groups__name=\"Employee\").values_list('user_id', 'user__first_name', 'user__last_name', 'user__email', 'user__last_login', 'skill__name', 'percentage')), columns=['user_id', 'firat_name', 'last_name', 'email', 'lost_loggedin', 'skill', 'percentage'])\n",
    "user_skill_dict = user_skill_df.groupby('user_id').apply(lambda x:x.to_dict('r')).to_dict()"
   ]
  },
  {
   "cell_type": "code",
   "execution_count": null,
   "id": "1b2e9cbf",
   "metadata": {},
   "outputs": [],
   "source": []
  },
  {
   "cell_type": "code",
   "execution_count": null,
   "id": "284b8285",
   "metadata": {},
   "outputs": [],
   "source": []
  },
  {
   "cell_type": "code",
   "execution_count": null,
   "id": "5a78200a",
   "metadata": {},
   "outputs": [],
   "source": []
  },
  {
   "cell_type": "code",
   "execution_count": null,
   "id": "900f9410",
   "metadata": {},
   "outputs": [],
   "source": []
  },
  {
   "cell_type": "code",
   "execution_count": null,
   "id": "89676c3e",
   "metadata": {},
   "outputs": [],
   "source": []
  }
 ],
 "metadata": {
  "kernelspec": {
   "display_name": "Django Shell-Plus",
   "language": "python",
   "name": "django_extensions"
  },
  "language_info": {
   "codemirror_mode": {
    "name": "ipython",
    "version": 3
   },
   "file_extension": ".py",
   "mimetype": "text/x-python",
   "name": "python",
   "nbconvert_exporter": "python",
   "pygments_lexer": "ipython3",
   "version": "3.9.7"
  }
 },
 "nbformat": 4,
 "nbformat_minor": 5
}
