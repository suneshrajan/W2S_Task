{
 "cells": [
  {
   "cell_type": "code",
   "execution_count": 4,
   "id": "3be6bd9a",
   "metadata": {},
   "outputs": [],
   "source": [
    "import os\n",
    "import django\n",
    "os.environ.setdefault('DJANGO_SETTINGS_MODULE', 'rest.settings')\n",
    "os.environ[\"DJANGO_ALLOW_ASYNC_UNSAFE\"] = \"true\"\n",
    "django.setup()"
   ]
  },
  {
   "cell_type": "code",
   "execution_count": 5,
   "id": "0d75ceb7",
   "metadata": {},
   "outputs": [
    {
     "data": {
      "text/plain": [
       "<QuerySet []>"
      ]
     },
     "execution_count": 5,
     "metadata": {},
     "output_type": "execute_result"
    }
   ],
   "source": [
    "UserProfile.objects.all()"
   ]
  },
  {
   "cell_type": "code",
   "execution_count": 6,
   "id": "0edecb70",
   "metadata": {},
   "outputs": [
    {
     "data": {
      "text/plain": [
       "<QuerySet [<User: admin>]>"
      ]
     },
     "execution_count": 6,
     "metadata": {},
     "output_type": "execute_result"
    }
   ],
   "source": [
    "User.objects.all()"
   ]
  },
  {
   "cell_type": "code",
   "execution_count": 7,
   "id": "69912a9c",
   "metadata": {},
   "outputs": [
    {
     "data": {
      "text/plain": [
       "<QuerySet []>"
      ]
     },
     "execution_count": 7,
     "metadata": {},
     "output_type": "execute_result"
    }
   ],
   "source": [
    "Group.objects.all()"
   ]
  },
  {
   "cell_type": "code",
   "execution_count": 9,
   "id": "eedfd897",
   "metadata": {},
   "outputs": [
    {
     "data": {
      "text/plain": [
       "<QuerySet [(1, 'Can add log entry', 1, 'add_logentry'), (2, 'Can change log entry', 1, 'change_logentry'), (3, 'Can delete log entry', 1, 'delete_logentry'), (4, 'Can view log entry', 1, 'view_logentry'), (9, 'Can add group', 3, 'add_group'), (10, 'Can change group', 3, 'change_group'), (11, 'Can delete group', 3, 'delete_group'), (12, 'Can view group', 3, 'view_group'), (5, 'Can add permission', 2, 'add_permission'), (6, 'Can change permission', 2, 'change_permission'), (7, 'Can delete permission', 2, 'delete_permission'), (8, 'Can view permission', 2, 'view_permission'), (13, 'Can add user', 4, 'add_user'), (14, 'Can change user', 4, 'change_user'), (15, 'Can delete user', 4, 'delete_user'), (16, 'Can view user', 4, 'view_user'), (17, 'Can add content type', 5, 'add_contenttype'), (18, 'Can change content type', 5, 'change_contenttype'), (19, 'Can delete content type', 5, 'delete_contenttype'), (20, 'Can view content type', 5, 'view_contenttype'), '...(remaining elements truncated)...']>"
      ]
     },
     "execution_count": 9,
     "metadata": {},
     "output_type": "execute_result"
    }
   ],
   "source": [
    "Permission.objects.values_list()"
   ]
  },
  {
   "cell_type": "code",
   "execution_count": null,
   "id": "29dd3ee3",
   "metadata": {},
   "outputs": [],
   "source": []
  }
 ],
 "metadata": {
  "kernelspec": {
   "display_name": "Django Shell-Plus",
   "language": "python",
   "name": "django_extensions"
  },
  "language_info": {
   "codemirror_mode": {
    "name": "ipython",
    "version": 3
   },
   "file_extension": ".py",
   "mimetype": "text/x-python",
   "name": "python",
   "nbconvert_exporter": "python",
   "pygments_lexer": "ipython3",
   "version": "3.9.7"
  }
 },
 "nbformat": 4,
 "nbformat_minor": 5
}
